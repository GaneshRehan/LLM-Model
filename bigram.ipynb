{
 "cells": [
  {
   "cell_type": "code",
   "execution_count": 2,
   "metadata": {},
   "outputs": [],
   "source": [
    "import torch\n",
    "import torch.nn as nn\n",
    "from torch.nn import functional as F"
   ]
  },
  {
   "cell_type": "code",
   "execution_count": 15,
   "metadata": {},
   "outputs": [],
   "source": [
    "device = 'cuda' if torch.cuda.is_available() else 'cpu'\n",
    "# device\n",
    "block_size = 8\n",
    "batch_size = 4\n",
    "max_iters = 1000\n",
    "# eval_interval = 2500\n",
    "learning_rate = 3e-4\n",
    "eval_iters = 250"
   ]
  },
  {
   "cell_type": "code",
   "execution_count": 4,
   "metadata": {},
   "outputs": [],
   "source": [
    "with open('wizard_of_oz.txt', 'r', encoding='utf-8') as f:\n",
    "       text = f.read()\n",
    "\n",
    "chars = sorted(set(text))\n",
    "vocab_size = len(chars)"
   ]
  },
  {
   "cell_type": "code",
   "execution_count": 5,
   "metadata": {},
   "outputs": [
    {
     "data": {
      "text/plain": [
       "tensor([80,  1,  1,  ..., 29, 67, 57])"
      ]
     },
     "execution_count": 5,
     "metadata": {},
     "output_type": "execute_result"
    }
   ],
   "source": [
    "string_to_int = { ch:i for i, ch in enumerate(chars) }\n",
    "int_to_string = { i:ch for i, ch in enumerate(chars) }\n",
    "encode = lambda s: [string_to_int[c] for c in s]\n",
    "decode = lambda l:  ''.join([int_to_string[c] for c in l])\n",
    "\n",
    "data = torch.tensor(encode(text), dtype=torch.long)\n",
    "data\n"
   ]
  },
  {
   "cell_type": "code",
   "execution_count": 6,
   "metadata": {},
   "outputs": [
    {
     "name": "stdout",
     "output_type": "stream",
     "text": [
      "inputs:\n",
      "tensor([[11,  3,  0,  0,  3, 26, 74, 73],\n",
      "        [ 1, 66, 78,  1, 55, 68, 67, 58],\n",
      "        [ 1, 67, 68,  1, 67, 58, 58, 57],\n",
      "        [ 1, 43, 68, 71, 56, 58, 71, 58]])\n",
      "targets:\n",
      "tensor([[ 3,  0,  0,  3, 26, 74, 73,  1],\n",
      "        [66, 78,  1, 55, 68, 67, 58, 72],\n",
      "        [67, 68,  1, 67, 58, 58, 57,  1],\n",
      "        [43, 68, 71, 56, 58, 71, 58, 71]])\n"
     ]
    }
   ],
   "source": [
    "n = int(0.8 * len(data))\n",
    "\n",
    "train_data = data[:n]\n",
    "val_data = data[n:]\n",
    "\n",
    "def get_batch(split):\n",
    "    data = train_data if split == 'train' else val_data\n",
    "    ix = torch.randint(len(data) - block_size, (batch_size,))\n",
    "    x = torch.stack([data[i:i+block_size] for i in ix])\n",
    "    y = torch.stack([data[i+1:i+block_size+1] for i in ix])\n",
    "    x, y = x.to(device), y.to(device)\n",
    "    return x, y\n",
    "\n",
    "x, y = get_batch('train')\n",
    "print('inputs:')\n",
    "# print(x.shape)\n",
    "print(x)\n",
    "print('targets:')\n",
    "print(y)"
   ]
  },
  {
   "cell_type": "code",
   "execution_count": 12,
   "metadata": {},
   "outputs": [
    {
     "name": "stdout",
     "output_type": "stream",
     "text": [
      "\n",
      "5-k')XZ(S,ZjkBV1z_BAx7X&mNCiAy yNIZ035-s32X&7﻿hnr0acsW6TF8Q \n",
      "sTHJ[Mo2wI\"hg' H4K?\n",
      "3L)?'&E\n",
      "?I96CujFzuMGKk;ly1J&Chg!)(sNV\n",
      "za!pwv?mmI,4ZO﻿Y35GPe?hY[﻿R_iTns8Xbm[-PTE MZ ?\n",
      "(l9]ir8L0Pu[M)VwIa3-[M*mtX[Y?-t3kVtu8qIIGXI'8VIp!80y&7gMN:ua32t6?h\n",
      "deLQ6]YnxAm-gLvuYVeipy2_y2y3mljPVtE]nIXcx\"xl[GxTuVm:IvS],9?4Enfk5)rrRkT TqZ6:\"22sc&&Mx*y)8BChTNVpvQ_ )E6tS&E﻿[,;s?mtt]!h_n69Q:,V\n",
      "﻿(SZ.4&J'nrQR\"&nA*oYtEc5teIa)8),!vYm﻿UwarwIdV47﻿Jmt2r\n",
      "\"MPM?O'FD&1R3!j4669OsM4U!I:U'v&EH4 ?BAYkV!pWD3&z6.X9vBC;nrSehQ6IXQgMaaDfbnfYThn_[M8q\n"
     ]
    }
   ],
   "source": [
    "class BigramLanguageModel(nn.Module):\n",
    "    def __init__(self, vocab_size):\n",
    "        super().__init__()\n",
    "        self.token_embedding_table = nn.Embedding(vocab_size, vocab_size)\n",
    "        \n",
    "    def forward(self, index, targets=None):\n",
    "        logits = self.token_embedding_table(index)\n",
    "        \n",
    "        \n",
    "        if targets is None:\n",
    "            loss = None\n",
    "        else:\n",
    "            B, T, C = logits.shape\n",
    "            logits = logits.view(B*T, C)\n",
    "            targets = targets.view(B*T)\n",
    "            loss = F.cross_entropy(logits, targets)\n",
    "        \n",
    "        return logits, loss\n",
    "    \n",
    "    def generate(self, index, max_new_tokens):\n",
    "        # index is (B, T) array of indices in the current context\n",
    "        for _ in range(max_new_tokens):\n",
    "            # get the predictions\n",
    "            logits, loss = self.forward(index)\n",
    "            # focus only on the last time step\n",
    "            logits = logits[:, -1, :] # becomes (B, C)\n",
    "            # apply softmax to get probabilities\n",
    "            probs = F.softmax(logits, dim=-1) # (B, C)\n",
    "            # sample from the distribution\n",
    "            index_next = torch.multinomial(probs, num_samples=1) # (B, 1)\n",
    "            # append sampled index to the running sequence\n",
    "            index = torch.cat((index, index_next), dim=1) # (B, T+1)\n",
    "        return index\n",
    "\n",
    "model = BigramLanguageModel(vocab_size)\n",
    "m = model.to(device)\n",
    "\n",
    "context = torch.zeros((1,1), dtype=torch.long, device=device)\n",
    "generated_chars = decode(m.generate(context, max_new_tokens=500)[0].tolist())\n",
    "print(generated_chars)\n"
   ]
  },
  {
   "cell_type": "code",
   "execution_count": 8,
   "metadata": {},
   "outputs": [],
   "source": [
    "@torch.no_grad()\n",
    "def estimate_loss():\n",
    "    out = {}\n",
    "    model.eval()\n",
    "    for split in ['train', 'val']:\n",
    "        losses = torch.zeros(eval_iters)\n",
    "        for k in range(eval_iters):\n",
    "            X, Y = get_batch(split)\n",
    "            logits, loss = model(X, Y)\n",
    "            losses[k] = loss.item()\n",
    "        out[split] = losses.mean()\n",
    "    model.train()\n",
    "    return out"
   ]
  },
  {
   "cell_type": "code",
   "execution_count": 16,
   "metadata": {},
   "outputs": [
    {
     "name": "stdout",
     "output_type": "stream",
     "text": [
      "step: 0, train loss: 2.682, val loss: 2.656\n",
      "step: 250, train loss: 2.648, val loss: 2.674\n",
      "step: 500, train loss: 2.657, val loss: 2.693\n",
      "step: 750, train loss: 2.644, val loss: 2.657\n",
      "2.4928836822509766\n"
     ]
    }
   ],
   "source": [
    "# create a PyTorch optimizer\n",
    "optimizer = torch.optim.AdamW(model.parameters(), lr=learning_rate)\n",
    "\n",
    "for iter in range(max_iters):\n",
    "    if iter % eval_iters == 0:\n",
    "        losses = estimate_loss()\n",
    "        print(f\"step: {iter}, train loss: {losses['train']:.3f}, val loss: {losses['val']:.3f}\")\n",
    "\n",
    "    # sample a batch of data\n",
    "    xb, yb = get_batch('train')\n",
    "\n",
    "    # evaluate the loss\n",
    "    logits, loss = model.forward(xb, yb)\n",
    "    optimizer.zero_grad(set_to_none=True)\n",
    "    loss.backward()\n",
    "    optimizer.step()\n",
    "print(loss.item())"
   ]
  },
  {
   "cell_type": "code",
   "execution_count": 10,
   "metadata": {},
   "outputs": [
    {
     "name": "stdout",
     "output_type": "stream",
     "text": [
      "\n",
      "tz: cyF'7jEWNangC-,p1!8VcWajdLHZd80)Di&&0x5I0nO&SY,TkmzEeK,qmzqmh?z.\n",
      "I['-uIFFBgh? ﻿d,Zw:z﻿p*FbIbAlzAyy\n",
      "!cW9?49Oc4F'Agkm[﻿EGl4RMSgQfo!mY:0kmve:6n9TzUGX':7uQUHSalI!C&Y!C3-d-bHF,W]SI'4p-U,4t-4Mkn-8,bAR﻿u!hc[S o75yz*;.r31*9T'eKl\"h?t'&1Jt1?utehdTmj6R9UJLjIS_UF-yNe&&8dl4su7QsSaD3FPMn_5QeKwy) ?Y6n4F'eT6hnq-CU0:*]wOWWXr3o!cMSOBdH!d_.?RYV.C)mFEs3up,!﻿OQ\n",
      "QUrLYOno5t-jx]s.bGa7?q[xtRo;adwA'I8Q;e&R&f8\n",
      "NsGa ZUZSjao[!TOK\n",
      "Ie3vh?5e;Mi\")0M: LRTq0\"q;ty\n",
      "P﻿dHpI'Q(,bA\"﻿3lsI8uIC9?1Em7MxrenX'ZocB'IM7)[X.AasZRjMs0bpYgPj!\n"
     ]
    }
   ],
   "source": [
    "context = torch.zeros((1,1), dtype=torch.long, device=device)\n",
    "generated_chars = decode(m.generate(context, max_new_tokens=500)[0].tolist())\n",
    "print(generated_chars)"
   ]
  },
  {
   "cell_type": "code",
   "execution_count": null,
   "metadata": {},
   "outputs": [],
   "source": []
  }
 ],
 "metadata": {
  "kernelspec": {
   "display_name": "Python 3",
   "language": "python",
   "name": "python3"
  },
  "language_info": {
   "codemirror_mode": {
    "name": "ipython",
    "version": 3
   },
   "file_extension": ".py",
   "mimetype": "text/x-python",
   "name": "python",
   "nbconvert_exporter": "python",
   "pygments_lexer": "ipython3",
   "version": "3.11.1"
  }
 },
 "nbformat": 4,
 "nbformat_minor": 2
}
